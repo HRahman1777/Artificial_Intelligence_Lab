{
  "nbformat": 4,
  "nbformat_minor": 0,
  "metadata": {
    "colab": {
      "name": "LabTask3_ToDoList.ipynb",
      "provenance": [],
      "collapsed_sections": [],
      "authorship_tag": "ABX9TyNUexv2GQVX0fVCCMchbm17",
      "include_colab_link": true
    },
    "kernelspec": {
      "name": "python3",
      "display_name": "Python 3"
    }
  },
  "cells": [
    {
      "cell_type": "markdown",
      "metadata": {
        "id": "view-in-github",
        "colab_type": "text"
      },
      "source": [
        "<a href=\"https://colab.research.google.com/github/HRahman1777/Artificial_Intelligence_Lab/blob/main/LabTask3_ToDoList.ipynb\" target=\"_parent\"><img src=\"https://colab.research.google.com/assets/colab-badge.svg\" alt=\"Open In Colab\"/></a>"
      ]
    },
    {
      "cell_type": "markdown",
      "metadata": {
        "id": "ZXn64LjuBy7C"
      },
      "source": [
        "## COURSE PANEL - (**TodoList** Type)"
      ]
    },
    {
      "cell_type": "markdown",
      "metadata": {
        "id": "8E740k_QDLf-"
      },
      "source": [
        " [click me to go github repos](https://github.com/HRahman1777/Artificial_Intelligence_Lab)"
      ]
    },
    {
      "cell_type": "markdown",
      "metadata": {
        "id": "IB6B6wp5Csdm"
      },
      "source": [
        "***initial***"
      ]
    },
    {
      "cell_type": "code",
      "metadata": {
        "id": "pF89PfchhN0l"
      },
      "source": [
        "course_name = []\r\n",
        "course_code = []\r\n",
        "choice = 'random'"
      ],
      "execution_count": 64,
      "outputs": []
    },
    {
      "cell_type": "markdown",
      "metadata": {
        "id": "UbOtwKqBCXOu"
      },
      "source": [
        "***line design***"
      ]
    },
    {
      "cell_type": "code",
      "metadata": {
        "id": "Rns8qnm8ksY5"
      },
      "source": [
        "def line():\r\n",
        "    print('#############################################')\r\n",
        "#line()"
      ],
      "execution_count": 65,
      "outputs": []
    },
    {
      "cell_type": "code",
      "metadata": {
        "id": "MvQQq3folaao"
      },
      "source": [
        "def print_menu():\r\n",
        "    print('#############################################')\r\n",
        "    print('--------------      MENU      ---------------')\r\n",
        "    print('#############################################')\r\n",
        "#print_menu()"
      ],
      "execution_count": 66,
      "outputs": []
    },
    {
      "cell_type": "markdown",
      "metadata": {
        "id": "FLfB6x_bDi00"
      },
      "source": [
        "***menu show***"
      ]
    },
    {
      "cell_type": "code",
      "metadata": {
        "id": "wIvOviqIkx-Q"
      },
      "source": [
        "def show_menu():\r\n",
        "    print_menu()\r\n",
        "    print('              1. Add Course    ')\r\n",
        "    print('            2. Remove Course   ')\r\n",
        "    print('           3. View All Course  ')\r\n",
        "    print('                0. Exit         ')\r\n",
        "    line()\r\n",
        "    choice = input('       Enter your choice:      ')\r\n",
        "    return choice\r\n",
        "#show_menu()"
      ],
      "execution_count": 67,
      "outputs": []
    },
    {
      "cell_type": "markdown",
      "metadata": {
        "id": "72Vx6qImDpx0"
      },
      "source": [
        "***add course lvl***"
      ]
    },
    {
      "cell_type": "code",
      "metadata": {
        "id": "mqd_Vmr8nwkA"
      },
      "source": [
        "def add_course():\r\n",
        "        print('#####        ADD COURSE          #######')\r\n",
        "        c_name = input('            Enter Course Name: ')\r\n",
        "        course_name.append(c_name)\r\n",
        "        c_code = input('            Enter Course Code: ')\r\n",
        "        course_code.append(c_code)\r\n",
        "        print('Course:', c_name,'-',c_code,' added')\r\n",
        "#add_course()"
      ],
      "execution_count": 68,
      "outputs": []
    },
    {
      "cell_type": "markdown",
      "metadata": {
        "id": "Dj6c-aneDx7u"
      },
      "source": [
        "***remove course lvl***"
      ]
    },
    {
      "cell_type": "code",
      "metadata": {
        "id": "CZ8_6e7ps_Ye"
      },
      "source": [
        "def remove_course():\r\n",
        "        print('#####        REMOVE COURSE        #######')\r\n",
        "        item = input('Enter Course Name: ')\r\n",
        "        item2 = input('Enter Course Code: ')\r\n",
        "        if item in course_name and item2 in course_code:\r\n",
        "            course_name.remove(item)\r\n",
        "            course_code.remove(item2)\r\n",
        "            print('Removed Course', item, item2)\r\n",
        "        else:\r\n",
        "            print('Could not find!')\r\n",
        "#remove_course()"
      ],
      "execution_count": 69,
      "outputs": []
    },
    {
      "cell_type": "markdown",
      "metadata": {
        "id": "8dUHMQISD1Uk"
      },
      "source": [
        "***show all course lvl***"
      ]
    },
    {
      "cell_type": "code",
      "metadata": {
        "id": "CXX7H2SGvGc6"
      },
      "source": [
        "def show_course():\r\n",
        "        print('#####           ALL COURSE        #######')\r\n",
        "        size = len(course_name)\r\n",
        "        if size==0:\r\n",
        "          print('Course list is empty.')\r\n",
        "        else:\r\n",
        "          for i  in range(size):\r\n",
        "            print('Course: ', course_name[i],'-', course_code[i])\r\n",
        "#show_course()    "
      ],
      "execution_count": 70,
      "outputs": []
    },
    {
      "cell_type": "markdown",
      "metadata": {
        "id": "NR45lYXbD7FM"
      },
      "source": [
        "***main part (choice decide)***"
      ]
    },
    {
      "cell_type": "code",
      "metadata": {
        "colab": {
          "base_uri": "https://localhost:8080/"
        },
        "id": "gRlogUUzk1qf",
        "outputId": "914041ec-803b-4e8b-c86d-1fa1f37e41f4"
      },
      "source": [
        "while choice != '0':\r\n",
        "    choice = show_menu()\r\n",
        "    if choice == '1':\r\n",
        "        add_course()\r\n",
        "    elif choice == '2':\r\n",
        "        remove_course()\r\n",
        "    elif choice == '3':\r\n",
        "        show_course()\r\n",
        "    elif choice == '0':\r\n",
        "        print('Goodbye!')\r\n",
        "    else:\r\n",
        "        print('Please enter one of 1, 2, 3 or 0')"
      ],
      "execution_count": 71,
      "outputs": [
        {
          "output_type": "stream",
          "text": [
            "#############################################\n",
            "--------------      MENU      ---------------\n",
            "#############################################\n",
            "              1. Add Course    \n",
            "            2. Remove Course   \n",
            "           3. View All Course  \n",
            "                0. Exit         \n",
            "#############################################\n",
            "       Enter your choice:      1\n",
            "#####        ADD COURSE          #######\n",
            "            Enter Course Name: AI\n",
            "            Enter Course Code: 411\n",
            "Course: AI - 411  added\n",
            "#############################################\n",
            "--------------      MENU      ---------------\n",
            "#############################################\n",
            "              1. Add Course    \n",
            "            2. Remove Course   \n",
            "           3. View All Course  \n",
            "                0. Exit         \n",
            "#############################################\n",
            "       Enter your choice:      1\n",
            "#####        ADD COURSE          #######\n",
            "            Enter Course Name: AI Lab\n",
            "            Enter Course Code: 412\n",
            "Course: AI Lab - 412  added\n",
            "#############################################\n",
            "--------------      MENU      ---------------\n",
            "#############################################\n",
            "              1. Add Course    \n",
            "            2. Remove Course   \n",
            "           3. View All Course  \n",
            "                0. Exit         \n",
            "#############################################\n",
            "       Enter your choice:      WE\n",
            "Please enter one of 1, 2, 3 or 0\n",
            "#############################################\n",
            "--------------      MENU      ---------------\n",
            "#############################################\n",
            "              1. Add Course    \n",
            "            2. Remove Course   \n",
            "           3. View All Course  \n",
            "                0. Exit         \n",
            "#############################################\n",
            "       Enter your choice:      1\n",
            "#####        ADD COURSE          #######\n",
            "            Enter Course Name: WE\n",
            "            Enter Course Code: 416\n",
            "Course: WE - 416  added\n",
            "#############################################\n",
            "--------------      MENU      ---------------\n",
            "#############################################\n",
            "              1. Add Course    \n",
            "            2. Remove Course   \n",
            "           3. View All Course  \n",
            "                0. Exit         \n",
            "#############################################\n",
            "       Enter your choice:      3\n",
            "#####           ALL COURSE        #######\n",
            "Course:  AI - 411\n",
            "Course:  AI Lab - 412\n",
            "Course:  WE - 416\n",
            "#############################################\n",
            "--------------      MENU      ---------------\n",
            "#############################################\n",
            "              1. Add Course    \n",
            "            2. Remove Course   \n",
            "           3. View All Course  \n",
            "                0. Exit         \n",
            "#############################################\n",
            "       Enter your choice:      2\n",
            "#####        REMOVE COURSE        #######\n",
            "Enter Course Name: WE\n",
            "Enter Course Code: 416\n",
            "Removed Course WE 416\n",
            "#############################################\n",
            "--------------      MENU      ---------------\n",
            "#############################################\n",
            "              1. Add Course    \n",
            "            2. Remove Course   \n",
            "           3. View All Course  \n",
            "                0. Exit         \n",
            "#############################################\n",
            "       Enter your choice:      3\n",
            "#####           ALL COURSE        #######\n",
            "Course:  AI - 411\n",
            "Course:  AI Lab - 412\n",
            "#############################################\n",
            "--------------      MENU      ---------------\n",
            "#############################################\n",
            "              1. Add Course    \n",
            "            2. Remove Course   \n",
            "           3. View All Course  \n",
            "                0. Exit         \n",
            "#############################################\n",
            "       Enter your choice:      0\n",
            "Goodbye!\n"
          ],
          "name": "stdout"
        }
      ]
    }
  ]
}